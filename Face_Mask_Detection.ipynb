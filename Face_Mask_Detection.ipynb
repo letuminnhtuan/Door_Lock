{
  "cells": [
    {
      "cell_type": "code",
      "source": [
        "from google.colab import drive\n",
        "drive.mount('/content/drive')"
      ],
      "metadata": {
        "colab": {
          "base_uri": "https://localhost:8080/"
        },
        "id": "P9pYkW74wC5S",
        "outputId": "f6e9e961-86ab-4ad4-e1b7-fff0166701f2"
      },
      "id": "P9pYkW74wC5S",
      "execution_count": 1,
      "outputs": [
        {
          "output_type": "stream",
          "name": "stdout",
          "text": [
            "Mounted at /content/drive\n"
          ]
        }
      ]
    },
    {
      "cell_type": "code",
      "execution_count": 2,
      "id": "22839c53-be6f-42a2-b963-dc6bc5c2890a",
      "metadata": {
        "id": "22839c53-be6f-42a2-b963-dc6bc5c2890a"
      },
      "outputs": [],
      "source": [
        "import warnings\n",
        "warnings.filterwarnings('ignore')\n",
        "\n",
        "import torch \n",
        "import os\n",
        "import shutil\n",
        "import random\n",
        "from PIL import Image"
      ]
    },
    {
      "cell_type": "markdown",
      "id": "24281682-b09d-4c9c-a9d1-ac89b17ef371",
      "metadata": {
        "id": "24281682-b09d-4c9c-a9d1-ac89b17ef371"
      },
      "source": [
        "### Data preparation"
      ]
    },
    {
      "cell_type": "code",
      "execution_count": null,
      "id": "8bbfad4f-a52f-49ef-a1bf-3b1b911163f3",
      "metadata": {
        "colab": {
          "base_uri": "https://localhost:8080/"
        },
        "id": "8bbfad4f-a52f-49ef-a1bf-3b1b911163f3",
        "outputId": "d50850c4-5b81-4f7e-add2-dc87a67283da"
      },
      "outputs": [
        {
          "output_type": "stream",
          "name": "stdout",
          "text": [
            "Current Working Directory : /content\n"
          ]
        }
      ],
      "source": [
        "cwd = os.getcwd()\n",
        "print(f'Current Working Directory : {cwd}')"
      ]
    },
    {
      "cell_type": "code",
      "source": [
        "! pip install -q kaggle\n",
        "! mkdir ~/.kaggle\n",
        "! cp kaggle.json ~/.kaggle/\n",
        "! chmod 600 ~/.kaggle/kaggle.json\n",
        "! kaggle datasets download -d parot99/face-mask-detection-yolo-darknet-format\n",
        "!unzip /content/face-mask-detection-yolo-darknet-format.zip"
      ],
      "metadata": {
        "id": "qgMP6B-rnLDY"
      },
      "id": "qgMP6B-rnLDY",
      "execution_count": null,
      "outputs": []
    },
    {
      "cell_type": "code",
      "execution_count": null,
      "id": "f59dfc7b-03d0-4d30-b553-d6984bd2c67b",
      "metadata": {
        "id": "f59dfc7b-03d0-4d30-b553-d6984bd2c67b"
      },
      "outputs": [],
      "source": [
        "def create_dir(root_dir, sub_dir):\n",
        "    try:\n",
        "        path = os.path.join(root_dir, sub_dir)\n",
        "        os.makedirs(path)\n",
        "        print(f'Directory \"{path}\" Created')\n",
        "    except FileExistsError:\n",
        "        print('Directory Already Exists') "
      ]
    },
    {
      "cell_type": "code",
      "execution_count": null,
      "id": "c068a721-4361-4546-9576-13ff2378ce76",
      "metadata": {
        "id": "c068a721-4361-4546-9576-13ff2378ce76"
      },
      "outputs": [],
      "source": [
        "sub_dirs = [\n",
        "    'dataset/images/train', \n",
        "    'dataset/images/val', \n",
        "    'dataset/images/test',\n",
        "    'dataset/labels/train', \n",
        "    'dataset/labels/val',\n",
        "    'dataset/labels/test'\n",
        "]\n",
        "\n",
        "for sub_dir in sub_dirs:\n",
        "    create_dir(cwd, sub_dir)"
      ]
    },
    {
      "cell_type": "code",
      "source": [
        "import os\n",
        "import shutil\n",
        "\n",
        "train_folder = '/content/mask-dataset/images/test'\n",
        "img_folder = '/content/dataset/images/val'\n",
        "txt_folder = '/content/dataset/labels/val'\n",
        "\n",
        "for filename in os.listdir(train_folder):\n",
        "    if filename.endswith('.jpg') or filename.endswith('.png'):\n",
        "        shutil.move(os.path.join(train_folder, filename), os.path.join(img_folder, filename))\n",
        "    elif filename.endswith('.txt'):\n",
        "        shutil.move(os.path.join(train_folder, filename), os.path.join(txt_folder, filename))\n"
      ],
      "metadata": {
        "id": "lHpStsU0qUwA"
      },
      "id": "lHpStsU0qUwA",
      "execution_count": null,
      "outputs": []
    },
    {
      "cell_type": "code",
      "source": [
        "import os\n",
        "len(os.listdir('/content/dataset/images/val'))"
      ],
      "metadata": {
        "colab": {
          "base_uri": "https://localhost:8080/"
        },
        "id": "8NtgIAcBrVMK",
        "outputId": "7c1580eb-c679-4f41-ff52-0cad0b9709af"
      },
      "id": "8NtgIAcBrVMK",
      "execution_count": null,
      "outputs": [
        {
          "output_type": "execute_result",
          "data": {
            "text/plain": [
              "1035"
            ]
          },
          "metadata": {},
          "execution_count": 13
        }
      ]
    },
    {
      "cell_type": "code",
      "source": [
        "# !zip -rq mask_dataset.zip mask_dataset"
      ],
      "metadata": {
        "id": "2Y0m3cnFwGV3"
      },
      "id": "2Y0m3cnFwGV3",
      "execution_count": null,
      "outputs": []
    },
    {
      "cell_type": "markdown",
      "id": "06e797e5-24c3-4138-9c6a-7a86c01abe9e",
      "metadata": {
        "id": "06e797e5-24c3-4138-9c6a-7a86c01abe9e"
      },
      "source": [
        "### Model training"
      ]
    },
    {
      "cell_type": "code",
      "source": [
        "!cp -r /content/drive/MyDrive/mask_dataset.zip /content\n",
        "!unzip mask_dataset.zip"
      ],
      "metadata": {
        "id": "1K4OM7IuM0K5"
      },
      "id": "1K4OM7IuM0K5",
      "execution_count": null,
      "outputs": []
    },
    {
      "cell_type": "code",
      "source": [
        "%cd /content/drive/MyDrive/face_mask\n",
        "# !git clone https://github.com/ultralytics/yolov5.git\n",
        "%cd yolov5\n",
        "!pip install -qr requirements.txt"
      ],
      "metadata": {
        "id": "8USdTdhBwWpY"
      },
      "id": "8USdTdhBwWpY",
      "execution_count": null,
      "outputs": []
    },
    {
      "cell_type": "code",
      "execution_count": 5,
      "id": "b0c90791-12dd-44d7-8ce4-c5c61bc8aece",
      "metadata": {
        "colab": {
          "base_uri": "https://localhost:8080/"
        },
        "id": "b0c90791-12dd-44d7-8ce4-c5c61bc8aece",
        "outputId": "fa65c959-8f7a-4012-88f7-d92c22f93db5"
      },
      "outputs": [
        {
          "output_type": "stream",
          "name": "stdout",
          "text": [
            "\u001b[34m\u001b[1mtrain: \u001b[0mweights=yolov5s.pt, cfg=, data=data/dataset.yaml, hyp=data/hyps/hyp.scratch-low.yaml, epochs=30, batch_size=32, imgsz=640, rect=False, resume=False, nosave=False, noval=False, noautoanchor=False, noplots=False, evolve=None, bucket=, cache=ram, image_weights=False, device=, multi_scale=False, single_cls=False, optimizer=SGD, sync_bn=False, workers=8, project=runs/train, name=exp, exist_ok=False, quad=False, cos_lr=False, label_smoothing=0.0, patience=100, freeze=[0], save_period=-1, seed=0, local_rank=-1, entity=None, upload_dataset=False, bbox_interval=-1, artifact_alias=latest\n",
            "Command 'git fetch origin' timed out after 5 seconds\n",
            "YOLOv5 🚀 v7.0-172-gc3c1304 Python-3.10.11 torch-2.0.1+cu118 CUDA:0 (Tesla T4, 15102MiB)\n",
            "\n",
            "\u001b[34m\u001b[1mhyperparameters: \u001b[0mlr0=0.01, lrf=0.01, momentum=0.937, weight_decay=0.0005, warmup_epochs=3.0, warmup_momentum=0.8, warmup_bias_lr=0.1, box=0.05, cls=0.5, cls_pw=1.0, obj=1.0, obj_pw=1.0, iou_t=0.2, anchor_t=4.0, fl_gamma=0.0, hsv_h=0.015, hsv_s=0.7, hsv_v=0.4, degrees=0.0, translate=0.1, scale=0.5, shear=0.0, perspective=0.0, flipud=0.0, fliplr=0.5, mosaic=1.0, mixup=0.0, copy_paste=0.0\n",
            "\u001b[34m\u001b[1mClearML: \u001b[0mrun 'pip install clearml' to automatically track, visualize and remotely train YOLOv5 🚀 in ClearML\n",
            "\u001b[34m\u001b[1mComet: \u001b[0mrun 'pip install comet_ml' to automatically track and visualize YOLOv5 🚀 runs in Comet\n",
            "\u001b[34m\u001b[1mTensorBoard: \u001b[0mStart with 'tensorboard --logdir runs/train', view at http://localhost:6006/\n",
            "Downloading https://ultralytics.com/assets/Arial.ttf to /root/.config/Ultralytics/Arial.ttf...\n",
            "100% 755k/755k [00:00<00:00, 128MB/s]\n",
            "Downloading https://github.com/ultralytics/yolov5/releases/download/v7.0/yolov5s.pt to yolov5s.pt...\n",
            "100% 14.1M/14.1M [00:00<00:00, 169MB/s]\n",
            "\n",
            "Overriding model.yaml nc=80 with nc=2\n",
            "\n",
            "                 from  n    params  module                                  arguments                     \n",
            "  0                -1  1      3520  models.common.Conv                      [3, 32, 6, 2, 2]              \n",
            "  1                -1  1     18560  models.common.Conv                      [32, 64, 3, 2]                \n",
            "  2                -1  1     18816  models.common.C3                        [64, 64, 1]                   \n",
            "  3                -1  1     73984  models.common.Conv                      [64, 128, 3, 2]               \n",
            "  4                -1  2    115712  models.common.C3                        [128, 128, 2]                 \n",
            "  5                -1  1    295424  models.common.Conv                      [128, 256, 3, 2]              \n",
            "  6                -1  3    625152  models.common.C3                        [256, 256, 3]                 \n",
            "  7                -1  1   1180672  models.common.Conv                      [256, 512, 3, 2]              \n",
            "  8                -1  1   1182720  models.common.C3                        [512, 512, 1]                 \n",
            "  9                -1  1    656896  models.common.SPPF                      [512, 512, 5]                 \n",
            " 10                -1  1    131584  models.common.Conv                      [512, 256, 1, 1]              \n",
            " 11                -1  1         0  torch.nn.modules.upsampling.Upsample    [None, 2, 'nearest']          \n",
            " 12           [-1, 6]  1         0  models.common.Concat                    [1]                           \n",
            " 13                -1  1    361984  models.common.C3                        [512, 256, 1, False]          \n",
            " 14                -1  1     33024  models.common.Conv                      [256, 128, 1, 1]              \n",
            " 15                -1  1         0  torch.nn.modules.upsampling.Upsample    [None, 2, 'nearest']          \n",
            " 16           [-1, 4]  1         0  models.common.Concat                    [1]                           \n",
            " 17                -1  1     90880  models.common.C3                        [256, 128, 1, False]          \n",
            " 18                -1  1    147712  models.common.Conv                      [128, 128, 3, 2]              \n",
            " 19          [-1, 14]  1         0  models.common.Concat                    [1]                           \n",
            " 20                -1  1    296448  models.common.C3                        [256, 256, 1, False]          \n",
            " 21                -1  1    590336  models.common.Conv                      [256, 256, 3, 2]              \n",
            " 22          [-1, 10]  1         0  models.common.Concat                    [1]                           \n",
            " 23                -1  1   1182720  models.common.C3                        [512, 512, 1, False]          \n",
            " 24      [17, 20, 23]  1     18879  models.yolo.Detect                      [2, [[10, 13, 16, 30, 33, 23], [30, 61, 62, 45, 59, 119], [116, 90, 156, 198, 373, 326]], [128, 256, 512]]\n",
            "Model summary: 214 layers, 7025023 parameters, 7025023 gradients, 16.0 GFLOPs\n",
            "\n",
            "Transferred 343/349 items from yolov5s.pt\n",
            "\u001b[34m\u001b[1mAMP: \u001b[0mchecks passed ✅\n",
            "\u001b[34m\u001b[1moptimizer:\u001b[0m SGD(lr=0.01) with parameter groups 57 weight(decay=0.0), 60 weight(decay=0.0005), 60 bias\n",
            "\u001b[34m\u001b[1malbumentations: \u001b[0mBlur(p=0.01, blur_limit=(3, 7)), MedianBlur(p=0.01, blur_limit=(3, 7)), ToGray(p=0.01), CLAHE(p=0.01, clip_limit=(1, 4.0), tile_grid_size=(8, 8))\n",
            "\u001b[34m\u001b[1mtrain: \u001b[0mScanning /content/mask_dataset/labels/train... 4830 images, 0 backgrounds, 0 corrupt: 100% 4830/4830 [00:12<00:00, 378.27it/s]\n",
            "\u001b[34m\u001b[1mtrain: \u001b[0mWARNING ⚠️ /content/mask_dataset/images/train/1665.jpg: corrupt JPEG restored and saved\n",
            "\u001b[34m\u001b[1mtrain: \u001b[0mWARNING ⚠️ /content/mask_dataset/images/train/6095.jpg: corrupt JPEG restored and saved\n",
            "\u001b[34m\u001b[1mtrain: \u001b[0mNew cache created: /content/mask_dataset/labels/train.cache\n",
            "\u001b[34m\u001b[1mtrain: \u001b[0mCaching images (4.0GB ram): 100% 4830/4830 [01:33<00:00, 51.79it/s]\n",
            "\u001b[34m\u001b[1mval: \u001b[0mScanning /content/mask_dataset/labels/val... 1035 images, 0 backgrounds, 0 corrupt: 100% 1035/1035 [00:03<00:00, 262.28it/s]\n",
            "\u001b[34m\u001b[1mval: \u001b[0mNew cache created: /content/mask_dataset/labels/val.cache\n",
            "\u001b[34m\u001b[1mval: \u001b[0mCaching images (0.9GB ram): 100% 1035/1035 [00:29<00:00, 34.99it/s]\n",
            "\n",
            "\u001b[34m\u001b[1mAutoAnchor: \u001b[0m5.65 anchors/target, 1.000 Best Possible Recall (BPR). Current anchors are a good fit to dataset ✅\n",
            "Plotting labels to runs/train/exp4/labels.jpg... \n",
            "Image sizes 640 train, 640 val\n",
            "Using 2 dataloader workers\n",
            "Logging results to \u001b[1mruns/train/exp4\u001b[0m\n",
            "Starting training for 30 epochs...\n",
            "\n",
            "      Epoch    GPU_mem   box_loss   obj_loss   cls_loss  Instances       Size\n",
            "       0/29      6.71G    0.07454      0.034    0.02131        100        640: 100% 151/151 [01:23<00:00,  1.80it/s]\n",
            "                 Class     Images  Instances          P          R      mAP50   mAP50-95: 100% 17/17 [00:13<00:00,  1.28it/s]\n",
            "                   all       1035       2070      0.567      0.676      0.644      0.238\n",
            "\n",
            "      Epoch    GPU_mem   box_loss   obj_loss   cls_loss  Instances       Size\n",
            "       1/29      9.66G     0.0516    0.02161   0.006187        100        640: 100% 151/151 [01:18<00:00,  1.92it/s]\n",
            "                 Class     Images  Instances          P          R      mAP50   mAP50-95: 100% 17/17 [00:10<00:00,  1.63it/s]\n",
            "                   all       1035       2070      0.839      0.841      0.902      0.429\n",
            "\n",
            "      Epoch    GPU_mem   box_loss   obj_loss   cls_loss  Instances       Size\n",
            "       2/29      9.66G    0.04673    0.01884   0.004436        115        640: 100% 151/151 [01:15<00:00,  2.00it/s]\n",
            "                 Class     Images  Instances          P          R      mAP50   mAP50-95: 100% 17/17 [00:09<00:00,  1.82it/s]\n",
            "                   all       1035       2070      0.853      0.827      0.857        0.4\n",
            "\n",
            "      Epoch    GPU_mem   box_loss   obj_loss   cls_loss  Instances       Size\n",
            "       3/29      9.66G    0.03832    0.01731   0.003622        129        640: 100% 151/151 [01:15<00:00,  2.00it/s]\n",
            "                 Class     Images  Instances          P          R      mAP50   mAP50-95: 100% 17/17 [00:13<00:00,  1.30it/s]\n",
            "                   all       1035       2070      0.912      0.854       0.92      0.548\n",
            "\n",
            "      Epoch    GPU_mem   box_loss   obj_loss   cls_loss  Instances       Size\n",
            "       4/29      9.66G    0.03344    0.01642   0.003187        114        640: 100% 151/151 [01:14<00:00,  2.02it/s]\n",
            "                 Class     Images  Instances          P          R      mAP50   mAP50-95: 100% 17/17 [00:09<00:00,  1.71it/s]\n",
            "                   all       1035       2070      0.946      0.945      0.977      0.632\n",
            "\n",
            "      Epoch    GPU_mem   box_loss   obj_loss   cls_loss  Instances       Size\n",
            "       5/29      9.66G     0.0309     0.0163   0.003087        101        640: 100% 151/151 [01:13<00:00,  2.06it/s]\n",
            "                 Class     Images  Instances          P          R      mAP50   mAP50-95: 100% 17/17 [00:10<00:00,  1.55it/s]\n",
            "                   all       1035       2070      0.944      0.948      0.974      0.627\n",
            "\n",
            "      Epoch    GPU_mem   box_loss   obj_loss   cls_loss  Instances       Size\n",
            "       6/29      9.66G    0.02868    0.01545   0.002582         92        640: 100% 151/151 [01:17<00:00,  1.96it/s]\n",
            "                 Class     Images  Instances          P          R      mAP50   mAP50-95: 100% 17/17 [00:12<00:00,  1.34it/s]\n",
            "                   all       1035       2070      0.948      0.953      0.977      0.671\n",
            "\n",
            "      Epoch    GPU_mem   box_loss   obj_loss   cls_loss  Instances       Size\n",
            "       7/29      9.66G    0.02718    0.01515    0.00239         90        640: 100% 151/151 [01:19<00:00,  1.90it/s]\n",
            "                 Class     Images  Instances          P          R      mAP50   mAP50-95: 100% 17/17 [00:10<00:00,  1.61it/s]\n",
            "                   all       1035       2070      0.952      0.954       0.98      0.673\n",
            "\n",
            "      Epoch    GPU_mem   box_loss   obj_loss   cls_loss  Instances       Size\n",
            "       8/29      9.66G     0.0255      0.015    0.00224        129        640: 100% 151/151 [01:19<00:00,  1.89it/s]\n",
            "                 Class     Images  Instances          P          R      mAP50   mAP50-95: 100% 17/17 [00:09<00:00,  1.70it/s]\n",
            "                   all       1035       2070      0.955      0.963      0.984      0.698\n",
            "\n",
            "      Epoch    GPU_mem   box_loss   obj_loss   cls_loss  Instances       Size\n",
            "       9/29      9.66G    0.02514     0.0147   0.002101        112        640: 100% 151/151 [01:17<00:00,  1.95it/s]\n",
            "                 Class     Images  Instances          P          R      mAP50   mAP50-95: 100% 17/17 [00:11<00:00,  1.52it/s]\n",
            "                   all       1035       2070      0.962      0.958      0.982        0.7\n",
            "\n",
            "      Epoch    GPU_mem   box_loss   obj_loss   cls_loss  Instances       Size\n",
            "      10/29      9.66G    0.02407    0.01457    0.00188        119        640: 100% 151/151 [01:16<00:00,  1.99it/s]\n",
            "                 Class     Images  Instances          P          R      mAP50   mAP50-95: 100% 17/17 [00:10<00:00,  1.59it/s]\n",
            "                   all       1035       2070      0.954      0.956      0.982      0.711\n",
            "\n",
            "      Epoch    GPU_mem   box_loss   obj_loss   cls_loss  Instances       Size\n",
            "      11/29      9.66G    0.02342    0.01398   0.001971        102        640: 100% 151/151 [01:17<00:00,  1.96it/s]\n",
            "                 Class     Images  Instances          P          R      mAP50   mAP50-95: 100% 17/17 [00:09<00:00,  1.76it/s]\n",
            "                   all       1035       2070      0.966      0.949      0.984      0.718\n",
            "\n",
            "      Epoch    GPU_mem   box_loss   obj_loss   cls_loss  Instances       Size\n",
            "      12/29      9.66G    0.02282    0.01423   0.001655         94        640: 100% 151/151 [01:18<00:00,  1.92it/s]\n",
            "                 Class     Images  Instances          P          R      mAP50   mAP50-95: 100% 17/17 [00:11<00:00,  1.51it/s]\n",
            "                   all       1035       2070      0.966      0.966      0.987      0.718\n",
            "\n",
            "      Epoch    GPU_mem   box_loss   obj_loss   cls_loss  Instances       Size\n",
            "      13/29      9.66G    0.02269    0.01391   0.001744         96        640: 100% 151/151 [01:15<00:00,  2.00it/s]\n",
            "                 Class     Images  Instances          P          R      mAP50   mAP50-95: 100% 17/17 [00:09<00:00,  1.75it/s]\n",
            "                   all       1035       2070       0.95      0.956      0.984      0.725\n",
            "\n",
            "      Epoch    GPU_mem   box_loss   obj_loss   cls_loss  Instances       Size\n",
            "      14/29      9.66G     0.0219    0.01346   0.001771        104        640: 100% 151/151 [01:16<00:00,  1.96it/s]\n",
            "                 Class     Images  Instances          P          R      mAP50   mAP50-95: 100% 17/17 [00:10<00:00,  1.69it/s]\n",
            "                   all       1035       2070       0.96      0.957      0.984      0.726\n",
            "\n",
            "      Epoch    GPU_mem   box_loss   obj_loss   cls_loss  Instances       Size\n",
            "      15/29      9.66G    0.02163    0.01324   0.001688         90        640: 100% 151/151 [01:16<00:00,  1.98it/s]\n",
            "                 Class     Images  Instances          P          R      mAP50   mAP50-95: 100% 17/17 [00:12<00:00,  1.38it/s]\n",
            "                   all       1035       2070      0.959      0.964      0.985      0.727\n",
            "\n",
            "      Epoch    GPU_mem   box_loss   obj_loss   cls_loss  Instances       Size\n",
            "      16/29      9.66G     0.0216    0.01345    0.00148        110        640: 100% 151/151 [01:16<00:00,  1.97it/s]\n",
            "                 Class     Images  Instances          P          R      mAP50   mAP50-95: 100% 17/17 [00:10<00:00,  1.55it/s]\n",
            "                   all       1035       2070      0.969      0.952      0.985      0.735\n",
            "\n",
            "      Epoch    GPU_mem   box_loss   obj_loss   cls_loss  Instances       Size\n",
            "      17/29      9.66G    0.02085    0.01331   0.001444        102        640: 100% 151/151 [01:15<00:00,  2.00it/s]\n",
            "                 Class     Images  Instances          P          R      mAP50   mAP50-95: 100% 17/17 [00:10<00:00,  1.55it/s]\n",
            "                   all       1035       2070      0.965       0.96      0.987      0.732\n",
            "\n",
            "      Epoch    GPU_mem   box_loss   obj_loss   cls_loss  Instances       Size\n",
            "      18/29      9.66G    0.02064    0.01303   0.001404         96        640: 100% 151/151 [01:18<00:00,  1.94it/s]\n",
            "                 Class     Images  Instances          P          R      mAP50   mAP50-95: 100% 17/17 [00:13<00:00,  1.23it/s]\n",
            "                   all       1035       2070      0.961      0.963      0.987      0.742\n",
            "\n",
            "      Epoch    GPU_mem   box_loss   obj_loss   cls_loss  Instances       Size\n",
            "      19/29      9.66G    0.02032    0.01285   0.001286         87        640: 100% 151/151 [01:16<00:00,  1.98it/s]\n",
            "                 Class     Images  Instances          P          R      mAP50   mAP50-95: 100% 17/17 [00:11<00:00,  1.53it/s]\n",
            "                   all       1035       2070      0.961      0.967      0.987      0.741\n",
            "\n",
            "      Epoch    GPU_mem   box_loss   obj_loss   cls_loss  Instances       Size\n",
            "      20/29      9.66G    0.02001    0.01259   0.001258        121        640: 100% 151/151 [01:17<00:00,  1.95it/s]\n",
            "                 Class     Images  Instances          P          R      mAP50   mAP50-95: 100% 17/17 [00:13<00:00,  1.26it/s]\n",
            "                   all       1035       2070      0.959       0.96      0.986      0.737\n",
            "\n",
            "      Epoch    GPU_mem   box_loss   obj_loss   cls_loss  Instances       Size\n",
            "      21/29      9.66G    0.01974     0.0126    0.00117        116        640: 100% 151/151 [01:16<00:00,  1.98it/s]\n",
            "                 Class     Images  Instances          P          R      mAP50   mAP50-95: 100% 17/17 [00:11<00:00,  1.50it/s]\n",
            "                   all       1035       2070      0.965      0.968      0.987      0.738\n",
            "\n",
            "      Epoch    GPU_mem   box_loss   obj_loss   cls_loss  Instances       Size\n",
            "      22/29      9.66G    0.01954    0.01263    0.00112        101        640: 100% 151/151 [01:17<00:00,  1.96it/s]\n",
            "                 Class     Images  Instances          P          R      mAP50   mAP50-95: 100% 17/17 [00:10<00:00,  1.62it/s]\n",
            "                   all       1035       2070      0.962      0.966      0.987      0.741\n",
            "\n",
            "      Epoch    GPU_mem   box_loss   obj_loss   cls_loss  Instances       Size\n",
            "      23/29      9.66G    0.01928    0.01235   0.001317        138        640: 100% 151/151 [01:18<00:00,  1.93it/s]\n",
            "                 Class     Images  Instances          P          R      mAP50   mAP50-95: 100% 17/17 [00:10<00:00,  1.60it/s]\n",
            "                   all       1035       2070      0.966      0.962      0.987      0.744\n",
            "\n",
            "      Epoch    GPU_mem   box_loss   obj_loss   cls_loss  Instances       Size\n",
            "      24/29      9.66G    0.01901    0.01239   0.001135        107        640: 100% 151/151 [01:16<00:00,  1.97it/s]\n",
            "                 Class     Images  Instances          P          R      mAP50   mAP50-95: 100% 17/17 [00:11<00:00,  1.51it/s]\n",
            "                   all       1035       2070      0.968      0.963      0.987      0.748\n",
            "\n",
            "      Epoch    GPU_mem   box_loss   obj_loss   cls_loss  Instances       Size\n",
            "      25/29      9.66G    0.01864    0.01224   0.001019        137        640: 100% 151/151 [01:14<00:00,  2.02it/s]\n",
            "                 Class     Images  Instances          P          R      mAP50   mAP50-95: 100% 17/17 [00:12<00:00,  1.35it/s]\n",
            "                   all       1035       2070      0.966      0.966      0.987      0.747\n",
            "\n",
            "      Epoch    GPU_mem   box_loss   obj_loss   cls_loss  Instances       Size\n",
            "      26/29      9.66G    0.01873    0.01236   0.001152         81        640: 100% 151/151 [01:18<00:00,  1.93it/s]\n",
            "                 Class     Images  Instances          P          R      mAP50   mAP50-95: 100% 17/17 [00:09<00:00,  1.76it/s]\n",
            "                   all       1035       2070      0.966      0.962      0.986       0.75\n",
            "\n",
            "      Epoch    GPU_mem   box_loss   obj_loss   cls_loss  Instances       Size\n",
            "      27/29      9.66G     0.0183    0.01213  0.0008011         64        640: 100% 151/151 [01:16<00:00,  1.96it/s]\n",
            "                 Class     Images  Instances          P          R      mAP50   mAP50-95: 100% 17/17 [00:11<00:00,  1.53it/s]\n",
            "                   all       1035       2070      0.959       0.97      0.987      0.747\n",
            "\n",
            "      Epoch    GPU_mem   box_loss   obj_loss   cls_loss  Instances       Size\n",
            "      28/29      9.66G    0.01831    0.01203   0.001002        123        640: 100% 151/151 [01:16<00:00,  1.98it/s]\n",
            "                 Class     Images  Instances          P          R      mAP50   mAP50-95: 100% 17/17 [00:11<00:00,  1.52it/s]\n",
            "                   all       1035       2070      0.964      0.961      0.987      0.751\n",
            "\n",
            "      Epoch    GPU_mem   box_loss   obj_loss   cls_loss  Instances       Size\n",
            "      29/29      9.66G    0.01795    0.01182   0.000945        105        640: 100% 151/151 [01:17<00:00,  1.94it/s]\n",
            "                 Class     Images  Instances          P          R      mAP50   mAP50-95: 100% 17/17 [00:11<00:00,  1.53it/s]\n",
            "                   all       1035       2070      0.956      0.973      0.987      0.754\n",
            "\n",
            "30 epochs completed in 0.770 hours.\n",
            "Optimizer stripped from runs/train/exp4/weights/last.pt, 14.4MB\n",
            "Optimizer stripped from runs/train/exp4/weights/best.pt, 14.4MB\n",
            "\n",
            "Validating runs/train/exp4/weights/best.pt...\n",
            "Fusing layers... \n",
            "Model summary: 157 layers, 7015519 parameters, 0 gradients, 15.8 GFLOPs\n",
            "                 Class     Images  Instances          P          R      mAP50   mAP50-95:   6% 1/17 [00:00<00:15,  1.04it/s]^C\n"
          ]
        }
      ],
      "source": [
        "! python train.py --batch 32 --epochs 30\\\n",
        "                  --data data/dataset.yaml --weights yolov5s.pt --cache ram"
      ]
    },
    {
      "cell_type": "markdown",
      "id": "39372873-6c12-4858-84c7-23af8a9a9555",
      "metadata": {
        "id": "39372873-6c12-4858-84c7-23af8a9a9555"
      },
      "source": [
        "### Model Inference"
      ]
    },
    {
      "cell_type": "code",
      "execution_count": null,
      "id": "0ed083ad-7819-4962-937a-0d848225d03d",
      "metadata": {
        "id": "0ed083ad-7819-4962-937a-0d848225d03d"
      },
      "outputs": [],
      "source": [
        "! python 'yolov5/detect.py' --weights 'runs/train/exp/weights/best.pt' --source 'dataset/images/test'"
      ]
    }
  ],
  "metadata": {
    "kernelspec": {
      "display_name": "Python 3 (ipykernel)",
      "language": "python",
      "name": "python3"
    },
    "language_info": {
      "codemirror_mode": {
        "name": "ipython",
        "version": 3
      },
      "file_extension": ".py",
      "mimetype": "text/x-python",
      "name": "python",
      "nbconvert_exporter": "python",
      "pygments_lexer": "ipython3",
      "version": "3.10.8"
    },
    "colab": {
      "provenance": [],
      "gpuType": "T4"
    },
    "accelerator": "GPU",
    "gpuClass": "standard"
  },
  "nbformat": 4,
  "nbformat_minor": 5
}